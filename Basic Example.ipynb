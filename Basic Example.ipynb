{
 "cells": [
  {
   "cell_type": "markdown",
   "metadata": {
    "deletable": true,
    "editable": true
   },
   "source": [
    "# Basic Example using patterns classifier"
   ]
  },
  {
   "cell_type": "code",
   "execution_count": 1,
   "metadata": {
    "collapsed": false,
    "deletable": true,
    "editable": true
   },
   "outputs": [],
   "source": [
    "import pandas as pd\n",
    "import numpy as np\n",
    "import sklearn.metrics\n",
    "\n",
    "from sklearn import preprocessing\n",
    "from sklearn.externals import joblib\n",
    "\n",
    "from scipy.sparse import csr_matrix\n",
    "\n",
    "#import PatternVectorizer and SimpleClassifier\n",
    "from pattern_classifier import  SimpleClassifier, PatternVectorizer"
   ]
  },
  {
   "cell_type": "code",
   "execution_count": 2,
   "metadata": {
    "collapsed": true,
    "deletable": true,
    "editable": true
   },
   "outputs": [],
   "source": [
    "# Load annotated tweets\n",
    "col = [\"text\", \"emo1\", \"emo2\", \"emo3\"]\n",
    "filename = 'test/annotated/annotated_tweets.tsv'\n",
    "tweets = pd.read_table(filename, header=None, names=col)"
   ]
  },
  {
   "cell_type": "markdown",
   "metadata": {
    "deletable": true,
    "editable": true
   },
   "source": [
    "## 1. Load Vectorizer and Classifier Instance\n",
    "\n",
    "Load a PatternVectorizer pv and SimpleClassifier cls instances from a folder containing files for each classes with pattern and corresponding score."
   ]
  },
  {
   "cell_type": "code",
   "execution_count": 3,
   "metadata": {
    "collapsed": false,
    "deletable": true,
    "editable": true
   },
   "outputs": [],
   "source": [
    "pv, cls = SimpleClassifier.load_from_folder('test/patterns/8_emos/')"
   ]
  },
  {
   "cell_type": "markdown",
   "metadata": {
    "deletable": true,
    "editable": true
   },
   "source": [
    "## Optional: Persist Classifier Instance to disk"
   ]
  },
  {
   "cell_type": "code",
   "execution_count": 4,
   "metadata": {
    "collapsed": false,
    "deletable": true,
    "editable": true
   },
   "outputs": [],
   "source": [
    "cls_persistence = 'test/simple_classifier_model.pkl.compressed'\n",
    "pv_persistence = 'test/pattern_vectorizer.pkl.compressed'\n",
    "\n",
    "joblib.dump(cls, cls_persistence, compress=True)\n",
    "joblib.dump(pv, pv_persistence, compress=True)\n",
    "new_cls = joblib.load(cls_persistence)\n",
    "new_pv = joblib.load(pv_persistence)\n",
    "# You can load the models here, comment the dumps and change the variable names from cls and pv to new_cls\n",
    "# and new_pv respectively"
   ]
  },
  {
   "cell_type": "markdown",
   "metadata": {
    "deletable": true,
    "editable": true
   },
   "source": [
    "## 2. Vectorize the tweets\n",
    "\n",
    "[tweet1, tweet2 ...] -> [[O11, O12, ...], [O21, O22, ...] ...]\n",
    "Oij represent the number of occurence of the jth pattern in the ith tweet."
   ]
  },
  {
   "cell_type": "code",
   "execution_count": 5,
   "metadata": {
    "collapsed": false,
    "deletable": true,
    "editable": true
   },
   "outputs": [
    {
     "name": "stdout",
     "output_type": "stream",
     "text": [
      "CPU times: user 6min 6s, sys: 1.66 s, total: 6min 8s\n",
      "Wall time: 6min 16s\n"
     ]
    }
   ],
   "source": [
    "%%time\n",
    "documentPatternVectors = pv.transform(tweets.text)"
   ]
  },
  {
   "cell_type": "markdown",
   "metadata": {},
   "source": [
    "Can perform in parallel."
   ]
  },
  {
   "cell_type": "code",
   "execution_count": 6,
   "metadata": {
    "collapsed": false
   },
   "outputs": [
    {
     "name": "stdout",
     "output_type": "stream",
     "text": [
      "CPU times: user 1.92 s, sys: 392 ms, total: 2.31 s\n",
      "Wall time: 3min 12s\n"
     ]
    }
   ],
   "source": [
    "%%time\n",
    "documentPatternVectors_parrallel = pv.transform_parrallel(tweets.text, n_jobs=-1, n_chunk=400)"
   ]
  },
  {
   "cell_type": "code",
   "execution_count": 7,
   "metadata": {
    "collapsed": false
   },
   "outputs": [
    {
     "data": {
      "text/plain": [
       "True"
      ]
     },
     "execution_count": 7,
     "metadata": {},
     "output_type": "execute_result"
    }
   ],
   "source": [
    "# check if the two matrix are equal\n",
    "(documentPatternVectors_parrallel - documentPatternVectors).nnz == 0"
   ]
  },
  {
   "cell_type": "markdown",
   "metadata": {},
   "source": [
    "The occurence matrix can be serealized"
   ]
  },
  {
   "cell_type": "code",
   "execution_count": 8,
   "metadata": {
    "collapsed": true
   },
   "outputs": [],
   "source": [
    "def save_sparse_csr(filename, array):\n",
    "    # note that .npz extension is added automatically\n",
    "    np.savez(filename, data=array.data, indices=array.indices,\n",
    "             indptr=array.indptr, shape=array.shape)\n",
    "\n",
    "def load_sparse_csr(filename):\n",
    "    # here we need to add .npz extension manually\n",
    "    loader = np.load(filename + '.npz')\n",
    "    return csr_matrix((loader['data'], loader['indices'], loader['indptr']),\n",
    "                      shape=loader['shape'])"
   ]
  },
  {
   "cell_type": "code",
   "execution_count": 9,
   "metadata": {
    "collapsed": false
   },
   "outputs": [
    {
     "data": {
      "text/plain": [
       "True"
      ]
     },
     "execution_count": 9,
     "metadata": {},
     "output_type": "execute_result"
    }
   ],
   "source": [
    "save_sparse_csr('test/occurence_matrix', documentPatternVectors)\n",
    "documentPatternVectors_loaded = load_sparse_csr('test/occurence_matrix')\n",
    "\n",
    "# check if the two matrix are equal\n",
    "(documentPatternVectors_loaded - documentPatternVectors).nnz == 0"
   ]
  },
  {
   "cell_type": "markdown",
   "metadata": {
    "deletable": true,
    "editable": true
   },
   "source": [
    "## 3. Classify tweets"
   ]
  },
  {
   "cell_type": "code",
   "execution_count": 10,
   "metadata": {
    "collapsed": false,
    "deletable": true,
    "editable": true
   },
   "outputs": [
    {
     "data": {
      "text/plain": [
       "['anticipation', 'trust', 'trust', 'anticipation', 'anticipation']"
      ]
     },
     "execution_count": 10,
     "metadata": {},
     "output_type": "execute_result"
    }
   ],
   "source": [
    "# using one emotion, guess the one with the smallest rank\n",
    "Y_GUESS_1 = cls.get_min_score_class(documentPatternVectors)\n",
    "Y_GUESS_1[:5]"
   ]
  },
  {
   "cell_type": "code",
   "execution_count": 11,
   "metadata": {
    "collapsed": false,
    "deletable": true,
    "editable": true
   },
   "outputs": [
    {
     "data": {
      "text/plain": [
       "[['anticipation', 'trust'],\n",
       " ['trust', 'joy'],\n",
       " ['trust', 'anticipation'],\n",
       " ['anticipation', 'joy'],\n",
       " ['anticipation', 'joy']]"
      ]
     },
     "execution_count": 11,
     "metadata": {},
     "output_type": "execute_result"
    }
   ],
   "source": [
    "# using two emotion, guess the one with the smallest rank\n",
    "Y_GUESS_2 = cls.get_top_classes(documentPatternVectors, ascending=True, n=2)\n",
    "Y_GUESS_2[:5]"
   ]
  },
  {
   "cell_type": "markdown",
   "metadata": {
    "deletable": true,
    "editable": true
   },
   "source": [
    "## 4. Evaluate your model"
   ]
  },
  {
   "cell_type": "markdown",
   "metadata": {},
   "source": [
    "### Classification evaluation"
   ]
  },
  {
   "cell_type": "code",
   "execution_count": 12,
   "metadata": {
    "collapsed": false,
    "deletable": true,
    "editable": true
   },
   "outputs": [
    {
     "name": "stdout",
     "output_type": "stream",
     "text": [
      "              precision    recall  f1-score   support\n",
      "\n",
      "       anger       0.24      0.28      0.26       107\n",
      "anticipation       0.27      0.40      0.32       272\n",
      "     disgust       0.25      0.09      0.13       183\n",
      "        fear       0.13      0.26      0.18        87\n",
      "         joy       0.59      0.24      0.34       456\n",
      "     sadness       0.44      0.15      0.23       165\n",
      "    surprise       0.14      0.46      0.22       125\n",
      "       trust       0.25      0.25      0.25       102\n",
      "\n",
      " avg / total       0.36      0.26      0.27      1497\n",
      "\n",
      "Accuracy:\n",
      "0.2625250501\n"
     ]
    }
   ],
   "source": [
    "print(sklearn.metrics.classification_report(tweets.emo1.values, Y_GUESS_1))\n",
    "print('Accuracy:')\n",
    "print(sklearn.metrics.accuracy_score(tweets.emo1.values, Y_GUESS_1))"
   ]
  },
  {
   "cell_type": "code",
   "execution_count": 13,
   "metadata": {
    "collapsed": false,
    "deletable": true,
    "editable": true
   },
   "outputs": [
    {
     "data": {
      "text/plain": [
       "0.2592963705188151"
      ]
     },
     "execution_count": 13,
     "metadata": {},
     "output_type": "execute_result"
    }
   ],
   "source": [
    "# Average Jacqard similarity of the two guess with the 2 label\n",
    "tweets = tweets.fillna('None')\n",
    "tweets['emotions'] = tweets.apply(lambda t: set((t.emo1 , t.emo2, t.emo3)) - {'None'}, axis=1)\n",
    "nb_tweets = len(tweets.emotions.values)\n",
    "sum([len(tweets.emotions[i] & set(Y_GUESS_2[i])) / len(tweets.emotions[i] | set(Y_GUESS_2[i])) for i in range(nb_tweets)]) / nb_tweets"
   ]
  },
  {
   "cell_type": "code",
   "execution_count": 14,
   "metadata": {
    "collapsed": false,
    "deletable": true,
    "editable": true
   },
   "outputs": [
    {
     "data": {
      "text/plain": [
       "0.42752171008684037"
      ]
     },
     "execution_count": 14,
     "metadata": {},
     "output_type": "execute_result"
    }
   ],
   "source": [
    "# Guess 2 accuracy\n",
    "sum([tweets.emo1[i] in set(Y_GUESS_2[i]) for i in range(nb_tweets)]) / nb_tweets"
   ]
  },
  {
   "cell_type": "code",
   "execution_count": 15,
   "metadata": {
    "collapsed": false,
    "deletable": true,
    "editable": true
   },
   "outputs": [
    {
     "data": {
      "text/plain": [
       "0.5784903139612558"
      ]
     },
     "execution_count": 15,
     "metadata": {},
     "output_type": "execute_result"
    }
   ],
   "source": [
    "# Accuracy conting positive if there is an intersection between the two guess and the labels\n",
    "sum([len(tweets.emotions[i] & set(Y_GUESS_2[i])) > 0 for i in range(nb_tweets)]) / nb_tweets"
   ]
  },
  {
   "cell_type": "markdown",
   "metadata": {},
   "source": [
    "### Ranking evaluation"
   ]
  },
  {
   "cell_type": "code",
   "execution_count": 16,
   "metadata": {
    "collapsed": true
   },
   "outputs": [],
   "source": [
    "tweets_emotions = [set(emos) & set(cls.classes) for emos in tweets[['emo1', 'emo2', 'emo3']].values]\n",
    "mlb = preprocessing.MultiLabelBinarizer()\n",
    "y_bin_emotions = mlb.fit_transform(tweets_emotions)"
   ]
  },
  {
   "cell_type": "code",
   "execution_count": 17,
   "metadata": {
    "collapsed": false
   },
   "outputs": [],
   "source": [
    "y_guess_emotion_prob = cls.get_emotion_prob(documentPatternVectors)"
   ]
  },
  {
   "cell_type": "code",
   "execution_count": 18,
   "metadata": {
    "collapsed": false
   },
   "outputs": [],
   "source": [
    "# to order the classifier prediction in the binariser order\n",
    "cls_to_mlb = [np.where(np.array(cls.classes) == emo)[0][0] for emo in mlb.classes_.tolist()]"
   ]
  },
  {
   "cell_type": "code",
   "execution_count": 19,
   "metadata": {
    "collapsed": false
   },
   "outputs": [],
   "source": [
    "y_guess_emotion_prob_mlb = y_guess_emotion_prob[:,cls_to_mlb]"
   ]
  },
  {
   "cell_type": "code",
   "execution_count": 20,
   "metadata": {
    "collapsed": false
   },
   "outputs": [
    {
     "name": "stdout",
     "output_type": "stream",
     "text": [
      "coverage_error: 4.925852\n",
      "average_precision_score: 0.322029\n",
      "label_ranking_average_precision_score: 0.529072\n",
      "label_ranking_loss: 0.389337\n"
     ]
    }
   ],
   "source": [
    "print('coverage_error: %f' % sklearn.metrics.coverage_error(y_bin_emotions, y_guess_emotion_prob_mlb))\n",
    "print('average_precision_score: %f' % sklearn.metrics.average_precision_score(y_bin_emotions, y_guess_emotion_prob_mlb))\n",
    "print('label_ranking_average_precision_score: %f' % sklearn.metrics.label_ranking_average_precision_score(y_bin_emotions, y_guess_emotion_prob_mlb))\n",
    "print('label_ranking_loss: %f' % sklearn.metrics.label_ranking_loss(y_bin_emotions, y_guess_emotion_prob_mlb))"
   ]
  },
  {
   "cell_type": "code",
   "execution_count": null,
   "metadata": {
    "collapsed": true
   },
   "outputs": [],
   "source": []
  }
 ],
 "metadata": {
  "kernelspec": {
   "display_name": "Python 3",
   "language": "python",
   "name": "python3"
  },
  "language_info": {
   "codemirror_mode": {
    "name": "ipython",
    "version": 3
   },
   "file_extension": ".py",
   "mimetype": "text/x-python",
   "name": "python",
   "nbconvert_exporter": "python",
   "pygments_lexer": "ipython3",
   "version": "3.6.0"
  }
 },
 "nbformat": 4,
 "nbformat_minor": 2
}
