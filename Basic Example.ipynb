{
 "cells": [
  {
   "cell_type": "markdown",
   "metadata": {},
   "source": [
    "# Basic Example using patterns classifier"
   ]
  },
  {
   "cell_type": "code",
   "execution_count": 1,
   "metadata": {
    "collapsed": false
   },
   "outputs": [],
   "source": [
    "import pandas as pd\n",
    "import numpy as np\n",
    "import sklearn.metrics\n",
    "\n",
    "from sklearn import preprocessing\n",
    "\n",
    "#import PatternVectorizer and SimpleClassifier\n",
    "from pattern_classifier import  SimpleClassifier, PatternVectorizer"
   ]
  },
  {
   "cell_type": "code",
   "execution_count": 2,
   "metadata": {
    "collapsed": true
   },
   "outputs": [],
   "source": [
    "# Load annotated tweets\n",
    "tweets = pd.read_table('data/annotated/annotated_tweets.tsv', names=['text', 'emotion'], dtype='str')"
   ]
  },
  {
   "cell_type": "markdown",
   "metadata": {},
   "source": [
    "## 1. Load Vectorizer and Classifier Instance\n",
    "\n",
    "Load a PatternVectorizer pv and SimpleClassifier cls instances from a folder containing files for each classes with pattern and corresponding score."
   ]
  },
  {
   "cell_type": "code",
   "execution_count": 3,
   "metadata": {
    "collapsed": false
   },
   "outputs": [],
   "source": [
    "pv, cls = SimpleClassifier.load_from_folder('data/patterns/8_emos/')"
   ]
  },
  {
   "cell_type": "markdown",
   "metadata": {},
   "source": [
    "## 2. Vectorize the tweets\n",
    "\n",
    "[tweet1, tweet2 ...] -> [[O11, O12, ...], [O21, O22, ...] ...]\n",
    "Oij represent the number of occurence of the jth pattern in the ith tweet."
   ]
  },
  {
   "cell_type": "code",
   "execution_count": 4,
   "metadata": {
    "collapsed": false
   },
   "outputs": [
    {
     "data": {
      "text/plain": [
       "array([[3, 2, 0, ..., 0, 0, 0],\n",
       "       [4, 0, 1, ..., 0, 0, 0],\n",
       "       [1, 1, 0, ..., 0, 0, 0],\n",
       "       [2, 0, 1, ..., 0, 0, 0],\n",
       "       [1, 0, 1, ..., 0, 0, 0]], dtype=int32)"
      ]
     },
     "execution_count": 4,
     "metadata": {},
     "output_type": "execute_result"
    }
   ],
   "source": [
    "documentPatternVectors = pv.transform(tweets.text)\n",
    "documentPatternVectors[:5]"
   ]
  },
  {
   "cell_type": "markdown",
   "metadata": {},
   "source": [
    "## 3. Classify tweets"
   ]
  },
  {
   "cell_type": "code",
   "execution_count": 5,
   "metadata": {
    "collapsed": false
   },
   "outputs": [
    {
     "data": {
      "text/plain": [
       "['anticipation', 'trust', 'trust', 'anticipation', 'anticipation']"
      ]
     },
     "execution_count": 5,
     "metadata": {},
     "output_type": "execute_result"
    }
   ],
   "source": [
    "# using one guess the one with the smallest rank\n",
    "Y_GUESS_1 = cls.get_min_score_class(documentPatternVectors)\n",
    "Y_GUESS_1[:5]"
   ]
  },
  {
   "cell_type": "code",
   "execution_count": 6,
   "metadata": {
    "collapsed": false
   },
   "outputs": [
    {
     "data": {
      "text/plain": [
       "[['anticipation', 'trust'],\n",
       " ['trust', 'joy'],\n",
       " ['trust', 'anticipation'],\n",
       " ['anticipation', 'joy'],\n",
       " ['anticipation', 'joy']]"
      ]
     },
     "execution_count": 6,
     "metadata": {},
     "output_type": "execute_result"
    }
   ],
   "source": [
    "# using two guess the one with the smallest rank\n",
    "Y_GUESS_2 = cls.get_top_classes(documentPatternVectors, ascending=True, n=2)\n",
    "Y_GUESS_2[:5]"
   ]
  },
  {
   "cell_type": "markdown",
   "metadata": {},
   "source": [
    "## 4. Evaluate your model"
   ]
  },
  {
   "cell_type": "code",
   "execution_count": 7,
   "metadata": {
    "collapsed": false
   },
   "outputs": [
    {
     "data": {
      "text/plain": [
       "LabelEncoder()"
      ]
     },
     "execution_count": 7,
     "metadata": {},
     "output_type": "execute_result"
    }
   ],
   "source": [
    "le = preprocessing.LabelEncoder()\n",
    "le.fit(cls.classes)"
   ]
  },
  {
   "cell_type": "code",
   "execution_count": 8,
   "metadata": {
    "collapsed": true
   },
   "outputs": [],
   "source": [
    "Y = le.transform(tweets.emotion.values.tolist())"
   ]
  },
  {
   "cell_type": "code",
   "execution_count": 9,
   "metadata": {
    "collapsed": false
   },
   "outputs": [],
   "source": [
    "Y_GUESS_1 = le.transform(Y_GUESS_1)"
   ]
  },
  {
   "cell_type": "code",
   "execution_count": 10,
   "metadata": {
    "collapsed": false
   },
   "outputs": [
    {
     "name": "stdout",
     "output_type": "stream",
     "text": [
      "              precision    recall  f1-score   support\n",
      "\n",
      "       anger       0.24      0.28      0.26       107\n",
      "anticipation       0.27      0.40      0.32       272\n",
      "     disgust       0.25      0.09      0.13       183\n",
      "        fear       0.13      0.26      0.18        87\n",
      "         joy       0.59      0.24      0.34       456\n",
      "     sadness       0.44      0.15      0.23       165\n",
      "    surprise       0.14      0.46      0.22       125\n",
      "       trust       0.25      0.25      0.25       102\n",
      "\n",
      " avg / total       0.36      0.26      0.27      1497\n",
      "\n",
      "Accuracy:\n",
      "0.2625250501\n"
     ]
    }
   ],
   "source": [
    "print(sklearn.metrics.classification_report(Y, Y_GUESS_1, target_names = le.classes_))\n",
    "print('Accuracy:')\n",
    "print(sklearn.metrics.accuracy_score(Y, Y_GUESS_1))"
   ]
  },
  {
   "cell_type": "code",
   "execution_count": 11,
   "metadata": {
    "collapsed": false
   },
   "outputs": [
    {
     "data": {
      "text/plain": [
       "0.42752171008684037"
      ]
     },
     "execution_count": 11,
     "metadata": {},
     "output_type": "execute_result"
    }
   ],
   "source": [
    "# Guess 2 accurancy\n",
    "nb_tweets = len(tweets.emotion.values)\n",
    "sum([tweets.emotion[i] in set(Y_GUESS_2[i]) for i in range(nb_tweets)]) / nb_tweets"
   ]
  },
  {
   "cell_type": "code",
   "execution_count": null,
   "metadata": {
    "collapsed": true
   },
   "outputs": [],
   "source": []
  }
 ],
 "metadata": {
  "kernelspec": {
   "display_name": "Python 3",
   "language": "python",
   "name": "python3"
  },
  "language_info": {
   "codemirror_mode": {
    "name": "ipython",
    "version": 3
   },
   "file_extension": ".py",
   "mimetype": "text/x-python",
   "name": "python",
   "nbconvert_exporter": "python",
   "pygments_lexer": "ipython3",
   "version": "3.6.0"
  }
 },
 "nbformat": 4,
 "nbformat_minor": 2
}
